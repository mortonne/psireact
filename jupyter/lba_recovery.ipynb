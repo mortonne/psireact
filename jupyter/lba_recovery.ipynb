{
 "cells": [
  {
   "cell_type": "markdown",
   "metadata": {},
   "source": [
    "# Parameter recovery with LBA model\n",
    "\n",
    "An important test for any model is to make sure that parameters are identifiable in the context of the task we are simulating. Here, we'll define a task and simulate it using a simple linear ballistic accumulator (LBA) model. Then we'll use Bayesian sampling to estimate the posterior probability of each parameter."
   ]
  },
  {
   "cell_type": "markdown",
   "metadata": {},
   "source": [
    "## Define a task to run\n",
    "\n",
    "For this example, we'll assume only one trial type. Each trial involves selecting between one of three choices. \n",
    "\n",
    "First, we'll generate some simulated data to fit. For each trial, we need to generate a simulated response time in seconds and a response (0, 1, or 2)."
   ]
  },
  {
   "cell_type": "code",
   "execution_count": 1,
   "metadata": {},
   "outputs": [
    {
     "name": "stderr",
     "output_type": "stream",
     "text": [
      "You are running the v4 development version of PyMC which currently still lacks key features. You probably want to use the stable v3 instead which you can either install via conda or find on the v3 GitHub branch: https://github.com/pymc-devs/pymc/tree/v3\n"
     ]
    }
   ],
   "source": [
    "import os\n",
    "import sys\n",
    "import numpy as np\n",
    "import pandas as pd\n",
    "import aesara\n",
    "import aesara.tensor as aet\n",
    "import pymc as pm\n",
    "from psireact import lba, model"
   ]
  },
  {
   "cell_type": "code",
   "execution_count": 30,
   "metadata": {},
   "outputs": [],
   "source": [
    "lba_model = lba.LBA()\n",
    "param = {'A': 4, 'b': 8, 'v': [1, 2, 2.5], 's': 1, 'tau': 0}\n",
    "n = 200\n",
    "test_type = np.ones(n, dtype='int32')\n",
    "df = lba_model.gen(test_type, param)"
   ]
  },
  {
   "cell_type": "code",
   "execution_count": 31,
   "metadata": {},
   "outputs": [],
   "source": [
    "data = np.hstack(\n",
    "    [\n",
    "        df['rt'].to_numpy(),\n",
    "        df['response'].to_numpy(),\n",
    "        df['test'].to_numpy(),\n",
    "    ]\n",
    ")"
   ]
  },
  {
   "cell_type": "code",
   "execution_count": 32,
   "metadata": {},
   "outputs": [
    {
     "data": {
      "text/plain": [
       "array([[ 0,  1,  2,  3,  4],\n",
       "       [ 5,  6,  7,  8,  9],\n",
       "       [10, 11, 12, 13, 14]])"
      ]
     },
     "execution_count": 32,
     "metadata": {},
     "output_type": "execute_result"
    }
   ],
   "source": [
    "x = np.arange(15).reshape(3, 5)\n",
    "y = np.arange(15)\n",
    "y.reshape(3, int(y.size / 3))"
   ]
  },
  {
   "cell_type": "markdown",
   "metadata": {
    "tags": []
   },
   "source": [
    "## Define a probabilistic model of the data\n",
    "\n",
    "The model specifies a likelihood function. This function defines the probability of observing some data, given a set of parameters. We need to specify prior distributions for each model parameter. Fitting to data will then allow us to estimate posterior distributions, that is, estimates of the parameters that have been updated based on observed data."
   ]
  },
  {
   "cell_type": "code",
   "execution_count": 33,
   "metadata": {},
   "outputs": [],
   "source": [
    "with pm.Model() as graph:\n",
    "    s = 1\n",
    "    tau = 0\n",
    "    b = 8\n",
    "    A = pm.Uniform('A', lower=0, upper=b)\n",
    "    v = pm.Uniform('v', lower=0, upper=10, shape=3)\n",
    "    param = {'A': A, 'b': b, 'v': v, 's': s, 'tau': tau}\n",
    "    def logp(x):\n",
    "        # rt, response, test = x.reshape(3, int(x.size / 3))\n",
    "        rt = x[:n]\n",
    "        response = x[n:n * 2]\n",
    "        test = x[n * 2:]\n",
    "        p = lba_model.tensor_pdf(rt, response, test, param)\n",
    "        return model.log_prob(p)\n",
    "    t_resp = pm.DensityDist('t_resp', logp=logp, observed=data)"
   ]
  },
  {
   "cell_type": "markdown",
   "metadata": {},
   "source": [
    "## Estimate posterior distributions\n",
    "\n",
    "This will be a relatively easy model to fit, as we're using the same model that generated the data. We'll test whether the $v_i$ parameters and the $A$ parameter can be accurately estimated based on our simulated data.\n",
    "\n",
    "Posterior distributions are estimated based on a \"chain\" of samples. Multiple chains are run (using multiple processor cores, if available, to run in parallel) for the sample posterior distribution. This lets us see if different random samples come out similar to one another."
   ]
  },
  {
   "cell_type": "code",
   "execution_count": 34,
   "metadata": {},
   "outputs": [
    {
     "name": "stderr",
     "output_type": "stream",
     "text": [
      "Auto-assigning NUTS sampler...\n",
      "Initializing NUTS using jitter+adapt_diag...\n",
      "/Users/morton/anaconda3/envs/devreact2/lib/python3.9/site-packages/pymc/model.py:925: FutureWarning: `Model.initial_point` has been deprecated. Use `Model.recompute_initial_point(seed=None)`.\n",
      "  warnings.warn(\n",
      "Multiprocess sampling (4 chains in 4 jobs)\n",
      "NUTS: [A, v]\n",
      "/Users/morton/anaconda3/envs/devreact2/lib/python3.9/site-packages/pymc/model.py:925: FutureWarning: `Model.initial_point` has been deprecated. Use `Model.recompute_initial_point(seed=None)`.\n",
      "  warnings.warn(\n",
      "You are running the v4 development version of PyMC which currently still lacks key features. You probably want to use the stable v3 instead which you can either install via conda or find on the v3 GitHub branch: https://github.com/pymc-devs/pymc/tree/v3\n",
      "You are running the v4 development version of PyMC which currently still lacks key features. You probably want to use the stable v3 instead which you can either install via conda or find on the v3 GitHub branch: https://github.com/pymc-devs/pymc/tree/v3\n",
      "You are running the v4 development version of PyMC which currently still lacks key features. You probably want to use the stable v3 instead which you can either install via conda or find on the v3 GitHub branch: https://github.com/pymc-devs/pymc/tree/v3\n",
      "You are running the v4 development version of PyMC which currently still lacks key features. You probably want to use the stable v3 instead which you can either install via conda or find on the v3 GitHub branch: https://github.com/pymc-devs/pymc/tree/v3\n"
     ]
    },
    {
     "data": {
      "text/html": [
       "\n",
       "    <div>\n",
       "        <style>\n",
       "            /* Turns off some styling */\n",
       "            progress {\n",
       "                /* gets rid of default border in Firefox and Opera. */\n",
       "                border: none;\n",
       "                /* Needs to be in here for Safari polyfill so background images work as expected. */\n",
       "                background-size: auto;\n",
       "            }\n",
       "            .progress-bar-interrupted, .progress-bar-interrupted::-webkit-progress-bar {\n",
       "                background: #F44336;\n",
       "            }\n",
       "        </style>\n",
       "      <progress value='368' class='' max='6000' style='width:300px; height:20px; vertical-align: middle;'></progress>\n",
       "      6.13% [368/6000 00:05<01:30 Sampling 4 chains, 0 divergences]\n",
       "    </div>\n",
       "    "
      ],
      "text/plain": [
       "<IPython.core.display.HTML object>"
      ]
     },
     "metadata": {},
     "output_type": "display_data"
    },
    {
     "name": "stderr",
     "output_type": "stream",
     "text": [
      "/Users/morton/anaconda3/envs/devreact2/lib/python3.9/site-packages/pymc/step_methods/hmc/quadpotential.py:258: RuntimeWarning: divide by zero encountered in true_divide\n",
      "  np.divide(1, self._stds, out=self._inv_stds)\n",
      "/Users/morton/anaconda3/envs/devreact2/lib/python3.9/site-packages/pymc/step_methods/hmc/quadpotential.py:258: RuntimeWarning: divide by zero encountered in true_divide\n",
      "  np.divide(1, self._stds, out=self._inv_stds)\n",
      "/Users/morton/anaconda3/envs/devreact2/lib/python3.9/site-packages/pymc/step_methods/hmc/quadpotential.py:237: RuntimeWarning: invalid value encountered in multiply\n",
      "  return np.multiply(self._var, x, out=out)\n",
      "/Users/morton/anaconda3/envs/devreact2/lib/python3.9/site-packages/pymc/model.py:925: FutureWarning: `Model.initial_point` has been deprecated. Use `Model.recompute_initial_point(seed=None)`.\n",
      "  warnings.warn(\n",
      "/Users/morton/anaconda3/envs/devreact2/lib/python3.9/site-packages/pymc/step_methods/hmc/quadpotential.py:237: RuntimeWarning: invalid value encountered in multiply\n",
      "  return np.multiply(self._var, x, out=out)\n",
      "/Users/morton/anaconda3/envs/devreact2/lib/python3.9/site-packages/pymc/model.py:925: FutureWarning: `Model.initial_point` has been deprecated. Use `Model.recompute_initial_point(seed=None)`.\n",
      "  warnings.warn(\n",
      "/Users/morton/anaconda3/envs/devreact2/lib/python3.9/site-packages/pymc/step_methods/hmc/quadpotential.py:258: RuntimeWarning: divide by zero encountered in true_divide\n",
      "  np.divide(1, self._stds, out=self._inv_stds)\n",
      "/Users/morton/anaconda3/envs/devreact2/lib/python3.9/site-packages/pymc/step_methods/hmc/quadpotential.py:237: RuntimeWarning: invalid value encountered in multiply\n",
      "  return np.multiply(self._var, x, out=out)\n",
      "/Users/morton/anaconda3/envs/devreact2/lib/python3.9/site-packages/pymc/model.py:925: FutureWarning: `Model.initial_point` has been deprecated. Use `Model.recompute_initial_point(seed=None)`.\n",
      "  warnings.warn(\n"
     ]
    },
    {
     "ename": "RuntimeError",
     "evalue": "Chain 0 failed.",
     "output_type": "error",
     "traceback": [
      "\u001b[0;31m---------------------------------------------------------------------------\u001b[0m",
      "\u001b[0;31mRemoteTraceback\u001b[0m                           Traceback (most recent call last)",
      "\u001b[0;31mRemoteTraceback\u001b[0m: \n\"\"\"\nTraceback (most recent call last):\n  File \"/Users/morton/anaconda3/envs/devreact2/lib/python3.9/site-packages/pymc/parallel_sampling.py\", line 125, in run\n    self._start_loop()\n  File \"/Users/morton/anaconda3/envs/devreact2/lib/python3.9/site-packages/pymc/parallel_sampling.py\", line 178, in _start_loop\n    point, stats = self._compute_point()\n  File \"/Users/morton/anaconda3/envs/devreact2/lib/python3.9/site-packages/pymc/parallel_sampling.py\", line 203, in _compute_point\n    point, stats = self._step_method.step(self._point)\n  File \"/Users/morton/anaconda3/envs/devreact2/lib/python3.9/site-packages/pymc/step_methods/arraystep.py\", line 286, in step\n    return super().step(point)\n  File \"/Users/morton/anaconda3/envs/devreact2/lib/python3.9/site-packages/pymc/step_methods/arraystep.py\", line 208, in step\n    step_res = self.astep(q)\n  File \"/Users/morton/anaconda3/envs/devreact2/lib/python3.9/site-packages/pymc/step_methods/hmc/base_hmc.py\", line 160, in astep\n    check_test_point = model.point_logps()\n  File \"/Users/morton/anaconda3/envs/devreact2/lib/python3.9/site-packages/pymc/model.py\", line 1629, in point_logps\n    {\n  File \"/Users/morton/anaconda3/envs/devreact2/lib/python3.9/site-packages/pymc/model.py\", line 1632, in <dictcomp>\n    self.fn(logpt_sum(rv, getattr(rv.tag, \"observations\", None)))(point)\n  File \"/Users/morton/anaconda3/envs/devreact2/lib/python3.9/site-packages/pymc/distributions/logprob.py\", line 298, in logpt_sum\n    return logpt(*args, sum=True, **kwargs)\n  File \"/Users/morton/anaconda3/envs/devreact2/lib/python3.9/site-packages/pymc/distributions/logprob.py\", line 222, in logpt\n    temp_logp_var_dict = factorized_joint_logprob(\n  File \"/Users/morton/anaconda3/envs/devreact2/lib/python3.9/site-packages/aeppl/joint_logprob.py\", line 186, in factorized_joint_logprob\n    q_logprob_vars = _logprob(\n  File \"/Users/morton/anaconda3/envs/devreact2/lib/python3.9/functools.py\", line 877, in wrapper\n    return dispatch(args[0].__class__)(*args, **kw)\n  File \"/Users/morton/anaconda3/envs/devreact2/lib/python3.9/site-packages/aeppl/logprob.py\", line 85, in _logprob\n    raise NotImplementedError(f\"Logprob method not implemented for {op}\")\nNotImplementedError: Logprob method not implemented for DensityDist_t_resp_rv{0, (), floatX, False}\n\"\"\"",
      "\nThe above exception was the direct cause of the following exception:\n",
      "\u001b[0;31mNotImplementedError\u001b[0m                       Traceback (most recent call last)",
      "\u001b[0;31mNotImplementedError\u001b[0m: Logprob method not implemented for DensityDist_t_resp_rv{0, (), floatX, False}",
      "\nThe above exception was the direct cause of the following exception:\n",
      "\u001b[0;31mRuntimeError\u001b[0m                              Traceback (most recent call last)",
      "\u001b[0;32m/var/folders/9d/zh72ny012k7bvgr427k05d8w0000gn/T/ipykernel_92687/3484205096.py\u001b[0m in \u001b[0;36m<module>\u001b[0;34m\u001b[0m\n\u001b[0;32m----> 1\u001b[0;31m \u001b[0mtrace\u001b[0m \u001b[0;34m=\u001b[0m \u001b[0mpm\u001b[0m\u001b[0;34m.\u001b[0m\u001b[0msample\u001b[0m\u001b[0;34m(\u001b[0m\u001b[0;36m1000\u001b[0m\u001b[0;34m,\u001b[0m \u001b[0mtune\u001b[0m\u001b[0;34m=\u001b[0m\u001b[0;36m500\u001b[0m\u001b[0;34m,\u001b[0m \u001b[0mmodel\u001b[0m\u001b[0;34m=\u001b[0m\u001b[0mgraph\u001b[0m\u001b[0;34m)\u001b[0m\u001b[0;34m\u001b[0m\u001b[0;34m\u001b[0m\u001b[0m\n\u001b[0m",
      "\u001b[0;32m~/anaconda3/envs/devreact2/lib/python3.9/site-packages/pymc/sampling.py\u001b[0m in \u001b[0;36msample\u001b[0;34m(draws, step, init, n_init, initvals, trace, chain_idx, chains, cores, tune, progressbar, model, random_seed, discard_tuned_samples, compute_convergence_checks, callback, jitter_max_retries, return_inferencedata, idata_kwargs, mp_ctx, **kwargs)\u001b[0m\n\u001b[1;32m    552\u001b[0m         \u001b[0m_print_step_hierarchy\u001b[0m\u001b[0;34m(\u001b[0m\u001b[0mstep\u001b[0m\u001b[0;34m)\u001b[0m\u001b[0;34m\u001b[0m\u001b[0;34m\u001b[0m\u001b[0m\n\u001b[1;32m    553\u001b[0m         \u001b[0;32mtry\u001b[0m\u001b[0;34m:\u001b[0m\u001b[0;34m\u001b[0m\u001b[0;34m\u001b[0m\u001b[0m\n\u001b[0;32m--> 554\u001b[0;31m             \u001b[0mtrace\u001b[0m \u001b[0;34m=\u001b[0m \u001b[0m_mp_sample\u001b[0m\u001b[0;34m(\u001b[0m\u001b[0;34m**\u001b[0m\u001b[0msample_args\u001b[0m\u001b[0;34m,\u001b[0m \u001b[0;34m**\u001b[0m\u001b[0mparallel_args\u001b[0m\u001b[0;34m)\u001b[0m\u001b[0;34m\u001b[0m\u001b[0;34m\u001b[0m\u001b[0m\n\u001b[0m\u001b[1;32m    555\u001b[0m         \u001b[0;32mexcept\u001b[0m \u001b[0mpickle\u001b[0m\u001b[0;34m.\u001b[0m\u001b[0mPickleError\u001b[0m\u001b[0;34m:\u001b[0m\u001b[0;34m\u001b[0m\u001b[0;34m\u001b[0m\u001b[0m\n\u001b[1;32m    556\u001b[0m             \u001b[0m_log\u001b[0m\u001b[0;34m.\u001b[0m\u001b[0mwarning\u001b[0m\u001b[0;34m(\u001b[0m\u001b[0;34m\"Could not pickle model, sampling singlethreaded.\"\u001b[0m\u001b[0;34m)\u001b[0m\u001b[0;34m\u001b[0m\u001b[0;34m\u001b[0m\u001b[0m\n",
      "\u001b[0;32m~/anaconda3/envs/devreact2/lib/python3.9/site-packages/pymc/sampling.py\u001b[0m in \u001b[0;36m_mp_sample\u001b[0;34m(draws, tune, step, chains, cores, chain, random_seed, start, progressbar, trace, model, callback, discard_tuned_samples, mp_ctx, **kwargs)\u001b[0m\n\u001b[1;32m   1467\u001b[0m         \u001b[0;32mtry\u001b[0m\u001b[0;34m:\u001b[0m\u001b[0;34m\u001b[0m\u001b[0;34m\u001b[0m\u001b[0m\n\u001b[1;32m   1468\u001b[0m             \u001b[0;32mwith\u001b[0m \u001b[0msampler\u001b[0m\u001b[0;34m:\u001b[0m\u001b[0;34m\u001b[0m\u001b[0;34m\u001b[0m\u001b[0m\n\u001b[0;32m-> 1469\u001b[0;31m                 \u001b[0;32mfor\u001b[0m \u001b[0mdraw\u001b[0m \u001b[0;32min\u001b[0m \u001b[0msampler\u001b[0m\u001b[0;34m:\u001b[0m\u001b[0;34m\u001b[0m\u001b[0;34m\u001b[0m\u001b[0m\n\u001b[0m\u001b[1;32m   1470\u001b[0m                     \u001b[0mtrace\u001b[0m \u001b[0;34m=\u001b[0m \u001b[0mtraces\u001b[0m\u001b[0;34m[\u001b[0m\u001b[0mdraw\u001b[0m\u001b[0;34m.\u001b[0m\u001b[0mchain\u001b[0m \u001b[0;34m-\u001b[0m \u001b[0mchain\u001b[0m\u001b[0;34m]\u001b[0m\u001b[0;34m\u001b[0m\u001b[0;34m\u001b[0m\u001b[0m\n\u001b[1;32m   1471\u001b[0m                     \u001b[0;32mif\u001b[0m \u001b[0mtrace\u001b[0m\u001b[0;34m.\u001b[0m\u001b[0msupports_sampler_stats\u001b[0m \u001b[0;32mand\u001b[0m \u001b[0mdraw\u001b[0m\u001b[0;34m.\u001b[0m\u001b[0mstats\u001b[0m \u001b[0;32mis\u001b[0m \u001b[0;32mnot\u001b[0m \u001b[0;32mNone\u001b[0m\u001b[0;34m:\u001b[0m\u001b[0;34m\u001b[0m\u001b[0;34m\u001b[0m\u001b[0m\n",
      "\u001b[0;32m~/anaconda3/envs/devreact2/lib/python3.9/site-packages/pymc/parallel_sampling.py\u001b[0m in \u001b[0;36m__iter__\u001b[0;34m(self)\u001b[0m\n\u001b[1;32m    458\u001b[0m \u001b[0;34m\u001b[0m\u001b[0m\n\u001b[1;32m    459\u001b[0m         \u001b[0;32mwhile\u001b[0m \u001b[0mself\u001b[0m\u001b[0;34m.\u001b[0m\u001b[0m_active\u001b[0m\u001b[0;34m:\u001b[0m\u001b[0;34m\u001b[0m\u001b[0;34m\u001b[0m\u001b[0m\n\u001b[0;32m--> 460\u001b[0;31m             \u001b[0mdraw\u001b[0m \u001b[0;34m=\u001b[0m \u001b[0mProcessAdapter\u001b[0m\u001b[0;34m.\u001b[0m\u001b[0mrecv_draw\u001b[0m\u001b[0;34m(\u001b[0m\u001b[0mself\u001b[0m\u001b[0;34m.\u001b[0m\u001b[0m_active\u001b[0m\u001b[0;34m)\u001b[0m\u001b[0;34m\u001b[0m\u001b[0;34m\u001b[0m\u001b[0m\n\u001b[0m\u001b[1;32m    461\u001b[0m             \u001b[0mproc\u001b[0m\u001b[0;34m,\u001b[0m \u001b[0mis_last\u001b[0m\u001b[0;34m,\u001b[0m \u001b[0mdraw\u001b[0m\u001b[0;34m,\u001b[0m \u001b[0mtuning\u001b[0m\u001b[0;34m,\u001b[0m \u001b[0mstats\u001b[0m\u001b[0;34m,\u001b[0m \u001b[0mwarns\u001b[0m \u001b[0;34m=\u001b[0m \u001b[0mdraw\u001b[0m\u001b[0;34m\u001b[0m\u001b[0;34m\u001b[0m\u001b[0m\n\u001b[1;32m    462\u001b[0m             \u001b[0mself\u001b[0m\u001b[0;34m.\u001b[0m\u001b[0m_total_draws\u001b[0m \u001b[0;34m+=\u001b[0m \u001b[0;36m1\u001b[0m\u001b[0;34m\u001b[0m\u001b[0;34m\u001b[0m\u001b[0m\n",
      "\u001b[0;32m~/anaconda3/envs/devreact2/lib/python3.9/site-packages/pymc/parallel_sampling.py\u001b[0m in \u001b[0;36mrecv_draw\u001b[0;34m(processes, timeout)\u001b[0m\n\u001b[1;32m    347\u001b[0m             \u001b[0;32melse\u001b[0m\u001b[0;34m:\u001b[0m\u001b[0;34m\u001b[0m\u001b[0;34m\u001b[0m\u001b[0m\n\u001b[1;32m    348\u001b[0m                 \u001b[0merror\u001b[0m \u001b[0;34m=\u001b[0m \u001b[0mRuntimeError\u001b[0m\u001b[0;34m(\u001b[0m\u001b[0;34m\"Chain %s failed.\"\u001b[0m \u001b[0;34m%\u001b[0m \u001b[0mproc\u001b[0m\u001b[0;34m.\u001b[0m\u001b[0mchain\u001b[0m\u001b[0;34m)\u001b[0m\u001b[0;34m\u001b[0m\u001b[0;34m\u001b[0m\u001b[0m\n\u001b[0;32m--> 349\u001b[0;31m             \u001b[0;32mraise\u001b[0m \u001b[0merror\u001b[0m \u001b[0;32mfrom\u001b[0m \u001b[0mold_error\u001b[0m\u001b[0;34m\u001b[0m\u001b[0;34m\u001b[0m\u001b[0m\n\u001b[0m\u001b[1;32m    350\u001b[0m         \u001b[0;32melif\u001b[0m \u001b[0mmsg\u001b[0m\u001b[0;34m[\u001b[0m\u001b[0;36m0\u001b[0m\u001b[0;34m]\u001b[0m \u001b[0;34m==\u001b[0m \u001b[0;34m\"writing_done\"\u001b[0m\u001b[0;34m:\u001b[0m\u001b[0;34m\u001b[0m\u001b[0;34m\u001b[0m\u001b[0m\n\u001b[1;32m    351\u001b[0m             \u001b[0mproc\u001b[0m\u001b[0;34m.\u001b[0m\u001b[0m_readable\u001b[0m \u001b[0;34m=\u001b[0m \u001b[0;32mTrue\u001b[0m\u001b[0;34m\u001b[0m\u001b[0;34m\u001b[0m\u001b[0m\n",
      "\u001b[0;31mRuntimeError\u001b[0m: Chain 0 failed."
     ]
    }
   ],
   "source": [
    "trace = pm.sample(1000, tune=500, model=graph)"
   ]
  },
  {
   "cell_type": "markdown",
   "metadata": {},
   "source": [
    "## Evaluate the sampling\n",
    "\n",
    "The pyMC3 sampler will print diagnostic information to give you an idea of whether there may be problems with the sampling. In practice, for complex models and especially hierarchical models, sampling will often be imperfect by the measures pyMC3 calculates. Our sample model, however, is simple enough that sampling should go pretty well. Different chains are plotted in different colors; they should lie about on top of each other in the distributions on the left. You also should not see much autocorrelation in the time plots on the right."
   ]
  },
  {
   "cell_type": "code",
   "execution_count": null,
   "metadata": {},
   "outputs": [],
   "source": [
    "h = pm.traceplot(trace)"
   ]
  },
  {
   "cell_type": "markdown",
   "metadata": {},
   "source": [
    "## Get estimates of model parameters\n",
    "\n",
    "This can be done in different ways, for example by calculating the mean over all samples or finding the maximum a posteriori parameters. Here, we take the mean for simplicity. \n",
    "\n",
    "These parameter estimates should be relatively close to the ones used to generate the data. Note, however, that estimation will never be perfect, and estimation accuracy depends on the number of data points we're fitting. For example, estimating the speed of the slowest accumulator is harder because we have fewer examples of that response in our simulated dataset."
   ]
  },
  {
   "cell_type": "code",
   "execution_count": null,
   "metadata": {},
   "outputs": [],
   "source": [
    "fixed = {'s': 1, 'tau': 0, 'b': 8}\n",
    "group_vars = ['A', 'v']\n",
    "param, subj_param = model.post_param(trace, fixed, group_vars)\n",
    "param"
   ]
  },
  {
   "cell_type": "markdown",
   "metadata": {},
   "source": [
    "## Generate data from fitted model\n",
    "\n",
    "Now that we have parameter estimates, we can generate new data to see what the fit looks like compared to the original (simulated) data. A simple way to assess the fit is by plotting the relative frequency of reaction time as a function of each response option."
   ]
  },
  {
   "cell_type": "code",
   "execution_count": null,
   "metadata": {},
   "outputs": [],
   "source": [
    "sim = lba_model.gen(test_type, param, nrep=1)"
   ]
  },
  {
   "cell_type": "code",
   "execution_count": null,
   "metadata": {},
   "outputs": [],
   "source": [
    "import psireact.plot as prp\n",
    "g = prp.plot_fit(df, sim)"
   ]
  }
 ],
 "metadata": {
  "kernelspec": {
   "display_name": "devreact2",
   "language": "python",
   "name": "devreact2"
  },
  "language_info": {
   "codemirror_mode": {
    "name": "ipython",
    "version": 3
   },
   "file_extension": ".py",
   "mimetype": "text/x-python",
   "name": "python",
   "nbconvert_exporter": "python",
   "pygments_lexer": "ipython3",
   "version": "3.9.7"
  }
 },
 "nbformat": 4,
 "nbformat_minor": 4
}
