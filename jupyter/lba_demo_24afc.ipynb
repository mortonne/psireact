{
 "cells": [
  {
   "cell_type": "markdown",
   "metadata": {},
   "source": [
    "# Demonstrate Linear Ballistic Accumulator model\n",
    "\n",
    "The LBA model can be used to simulate responses with any number of options. Given a few parameters, the LBA model will define the probability of observing different outcomes."
   ]
  },
  {
   "cell_type": "markdown",
   "metadata": {},
   "source": [
    "## Define LBA probability density function\n",
    "\n",
    "The PDF for LBA defines the probability density for each possible response time. It varies depending on the parameters of the model."
   ]
  },
  {
   "cell_type": "code",
   "execution_count": null,
   "metadata": {},
   "outputs": [],
   "source": [
    "import os\n",
    "import sys\n",
    "import math\n",
    "import numpy as np\n",
    "from scipy import integrate\n",
    "import matplotlib.pyplot as plt\n",
    "import pandas as pd\n",
    "import seaborn as sns\n",
    "\n",
    "module_path = os.path.abspath('..')\n",
    "if module_path not in sys.path:\n",
    "    sys.path.append(module_path)\n",
    "from psireact import lba"
   ]
  },
  {
   "cell_type": "code",
   "execution_count": null,
   "metadata": {},
   "outputs": [],
   "source": [
    "# define a model object for LBA\n",
    "model_lba = lba.LBA()\n",
    "\n",
    "# get the probability density function\n",
    "f = model_lba.function_pdf()"
   ]
  },
  {
   "cell_type": "code",
   "execution_count": null,
   "metadata": {},
   "outputs": [],
   "source": [
    "# set times and responses to evaluate\n",
    "n = 100  # number of times\n",
    "m = 24  # number of choices\n",
    "k = 3  # number of parameter values to test\n",
    "t = np.tile(np.linspace(0, 4, n), m)\n",
    "r = np.repeat(range(m), n).astype('int32')\n",
    "demo = np.repeat(range(3), n * m)\n",
    "df = pd.DataFrame({'rt': np.tile(t, k), 'response': np.tile(r, k),\n",
    "                   'demo': demo, 'pdf': np.zeros(n * m * k)})"
   ]
  },
  {
   "cell_type": "markdown",
   "metadata": {},
   "source": [
    "## Vary drift rate\n",
    "\n",
    "Each choice $i$ is associated with a mean drift rate $v_i$. The rate of different accumulators determines both response probabilities and response times. We can visualize both by plotting \"defective\" response time distributions that are scaled by the probability of a given response. The blue line is response 1, and the orange line is response 2."
   ]
  },
  {
   "cell_type": "code",
   "execution_count": null,
   "metadata": {},
   "outputs": [],
   "source": [
    "v_mat = np.vstack((np.linspace(0, 2, 24),\n",
    "                   np.linspace(0, 3, 24),\n",
    "                   np.linspace(0, 4, 24)))\n",
    "fig, ax = plt.subplots()\n",
    "h = ax.plot(v_mat.T)\n",
    "h = ax.set_xlabel('Serial position')\n",
    "h = ax.set_ylabel('Drift rate')"
   ]
  },
  {
   "cell_type": "code",
   "execution_count": null,
   "metadata": {},
   "outputs": [],
   "source": [
    "A = 5\n",
    "b = 10\n",
    "s = 1\n",
    "tau = 0\n",
    "v_max = [2, 3, 4]\n",
    "for i, v in enumerate(v_mat):\n",
    "    df.loc[demo == i, 'pdf'] = f(t, r, A, b, v, s, tau)\n",
    "    df.loc[demo == i, 'demo'] = f'vmax={v_max[i]}'\n",
    "\n",
    "g = sns.FacetGrid(df, col='demo', hue='response')\n",
    "g = (g.map_dataframe(sns.lineplot, x='rt', y='pdf')\n",
    "      .set_titles('{col_name}')\n",
    "      .set_xlabels('Response time (s)')\n",
    "      .set_ylabels('Probability density'))\n",
    "g.savefig('lba_24afc.pdf')"
   ]
  },
  {
   "cell_type": "markdown",
   "metadata": {},
   "source": [
    "The joint distribution over all responses is a probability distribution, so the integral over all responses and all response times should be close to 1. Check this using numerical integration (note that the integral depends on the range of times we examine, so it may be slightly less than 1):"
   ]
  },
  {
   "cell_type": "code",
   "execution_count": null,
   "metadata": {},
   "outputs": [],
   "source": [
    "index = df.demo.unique()\n",
    "idf = pd.DataFrame({'integral': np.zeros(len(index))}, index=index)\n",
    "for name, group in df.groupby('demo'):\n",
    "    idf.loc[name] = integrate.trapz(group.pdf, group.rt)\n",
    "idf"
   ]
  }
 ],
 "metadata": {
  "kernelspec": {
   "display_name": "devreact",
   "language": "python",
   "name": "devreact"
  },
  "language_info": {
   "codemirror_mode": {
    "name": "ipython",
    "version": 3
   },
   "file_extension": ".py",
   "mimetype": "text/x-python",
   "name": "python",
   "nbconvert_exporter": "python",
   "pygments_lexer": "ipython3",
   "version": "3.8.1"
  }
 },
 "nbformat": 4,
 "nbformat_minor": 4
}
